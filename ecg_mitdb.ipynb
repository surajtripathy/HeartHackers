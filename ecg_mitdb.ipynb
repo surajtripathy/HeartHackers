{
  "nbformat": 4,
  "nbformat_minor": 0,
  "metadata": {
    "colab": {
      "provenance": []
    },
    "kernelspec": {
      "name": "python3",
      "display_name": "Python 3"
    },
    "language_info": {
      "name": "python"
    }
  },
  "cells": [
    {
      "cell_type": "code",
      "execution_count": 1,
      "metadata": {
        "colab": {
          "base_uri": "https://localhost:8080/"
        },
        "id": "U8PLq6nIR3Ut",
        "outputId": "8489b576-0ddd-49ef-d826-7e20d6e911d2"
      },
      "outputs": [
        {
          "output_type": "stream",
          "name": "stdout",
          "text": [
            "Looking in indexes: https://pypi.org/simple, https://us-python.pkg.dev/colab-wheels/public/simple/\n",
            "Requirement already satisfied: wfdb in /usr/local/lib/python3.8/dist-packages (4.1.0)\n",
            "Requirement already satisfied: scipy<2.0.0,>=1.0.0 in /usr/local/lib/python3.8/dist-packages (from wfdb) (1.10.1)\n",
            "Requirement already satisfied: pandas<2.0.0,>=1.0.0 in /usr/local/lib/python3.8/dist-packages (from wfdb) (1.3.5)\n",
            "Requirement already satisfied: requests<3.0.0,>=2.8.1 in /usr/local/lib/python3.8/dist-packages (from wfdb) (2.25.1)\n",
            "Requirement already satisfied: matplotlib<4.0.0,>=3.2.2 in /usr/local/lib/python3.8/dist-packages (from wfdb) (3.5.3)\n",
            "Requirement already satisfied: SoundFile<0.12.0,>=0.10.0 in /usr/local/lib/python3.8/dist-packages (from wfdb) (0.11.0)\n",
            "Requirement already satisfied: numpy<2.0.0,>=1.10.1 in /usr/local/lib/python3.8/dist-packages (from wfdb) (1.22.4)\n",
            "Requirement already satisfied: pillow>=6.2.0 in /usr/local/lib/python3.8/dist-packages (from matplotlib<4.0.0,>=3.2.2->wfdb) (8.4.0)\n",
            "Requirement already satisfied: packaging>=20.0 in /usr/local/lib/python3.8/dist-packages (from matplotlib<4.0.0,>=3.2.2->wfdb) (23.0)\n",
            "Requirement already satisfied: fonttools>=4.22.0 in /usr/local/lib/python3.8/dist-packages (from matplotlib<4.0.0,>=3.2.2->wfdb) (4.38.0)\n",
            "Requirement already satisfied: cycler>=0.10 in /usr/local/lib/python3.8/dist-packages (from matplotlib<4.0.0,>=3.2.2->wfdb) (0.11.0)\n",
            "Requirement already satisfied: pyparsing>=2.2.1 in /usr/local/lib/python3.8/dist-packages (from matplotlib<4.0.0,>=3.2.2->wfdb) (3.0.9)\n",
            "Requirement already satisfied: kiwisolver>=1.0.1 in /usr/local/lib/python3.8/dist-packages (from matplotlib<4.0.0,>=3.2.2->wfdb) (1.4.4)\n",
            "Requirement already satisfied: python-dateutil>=2.7 in /usr/local/lib/python3.8/dist-packages (from matplotlib<4.0.0,>=3.2.2->wfdb) (2.8.2)\n",
            "Requirement already satisfied: pytz>=2017.3 in /usr/local/lib/python3.8/dist-packages (from pandas<2.0.0,>=1.0.0->wfdb) (2022.7.1)\n",
            "Requirement already satisfied: idna<3,>=2.5 in /usr/local/lib/python3.8/dist-packages (from requests<3.0.0,>=2.8.1->wfdb) (2.10)\n",
            "Requirement already satisfied: certifi>=2017.4.17 in /usr/local/lib/python3.8/dist-packages (from requests<3.0.0,>=2.8.1->wfdb) (2022.12.7)\n",
            "Requirement already satisfied: chardet<5,>=3.0.2 in /usr/local/lib/python3.8/dist-packages (from requests<3.0.0,>=2.8.1->wfdb) (4.0.0)\n",
            "Requirement already satisfied: urllib3<1.27,>=1.21.1 in /usr/local/lib/python3.8/dist-packages (from requests<3.0.0,>=2.8.1->wfdb) (1.26.14)\n",
            "Requirement already satisfied: cffi>=1.0 in /usr/local/lib/python3.8/dist-packages (from SoundFile<0.12.0,>=0.10.0->wfdb) (1.15.1)\n",
            "Requirement already satisfied: pycparser in /usr/local/lib/python3.8/dist-packages (from cffi>=1.0->SoundFile<0.12.0,>=0.10.0->wfdb) (2.21)\n",
            "Requirement already satisfied: six>=1.5 in /usr/local/lib/python3.8/dist-packages (from python-dateutil>=2.7->matplotlib<4.0.0,>=3.2.2->wfdb) (1.15.0)\n"
          ]
        }
      ],
      "source": [
        "!pip install wfdb"
      ]
    },
    {
      "cell_type": "code",
      "source": [
        "from google.colab import drive\n",
        "drive.mount('/content/gdrive')\n",
        "import os\n",
        "os.chdir('/content/gdrive/MyDrive/ECG_Classification_Pytorch-master/raw_data')"
      ],
      "metadata": {
        "colab": {
          "base_uri": "https://localhost:8080/"
        },
        "id": "oWtA13bvSI17",
        "outputId": "7ec30f9b-7c13-4937-de33-97f2a26053cc"
      },
      "execution_count": 2,
      "outputs": [
        {
          "output_type": "stream",
          "name": "stdout",
          "text": [
            "Drive already mounted at /content/gdrive; to attempt to forcibly remount, call drive.mount(\"/content/gdrive\", force_remount=True).\n"
          ]
        }
      ]
    },
    {
      "cell_type": "code",
      "source": [
        "import torch\n",
        "import torch.nn as nn\n",
        "\n",
        "import wfdb\n",
        "import numpy as np\n",
        "import pandas as pd\n",
        "import matplotlib.pyplot as plt\n",
        "%matplotlib inline"
      ],
      "metadata": {
        "id": "VSubniezR4k6"
      },
      "execution_count": 3,
      "outputs": []
    },
    {
      "cell_type": "code",
      "source": [
        "ecg_record = wfdb.rdrecord('14046', channels= [0])\n",
        "# ecg_record.fs "
      ],
      "metadata": {
        "id": "-oRzRlkyR-IM"
      },
      "execution_count": 4,
      "outputs": []
    },
    {
      "cell_type": "code",
      "source": [
        "ecg_record = wfdb.rdrecord('14046', sampfrom= 0, sampto= 108300, channels= [1])"
      ],
      "metadata": {
        "id": "sCobEx0qSZx1"
      },
      "execution_count": 5,
      "outputs": []
    },
    {
      "cell_type": "code",
      "source": [
        "ecg = ecg_record.p_signal[:,0]\n",
        "train_len = 108000\n",
        "\n",
        "ecg_train = ecg[0: train_len]\n",
        "ecg_test = ecg[train_len:]"
      ],
      "metadata": {
        "id": "Q3n6qBsdUZ6o"
      },
      "execution_count": 6,
      "outputs": []
    },
    {
      "cell_type": "code",
      "source": [
        "ecg_train = torch.FloatTensor(ecg_train).view(-1)"
      ],
      "metadata": {
        "id": "-ClMp60PUic3"
      },
      "execution_count": 7,
      "outputs": []
    },
    {
      "cell_type": "code",
      "source": [
        "ecg_test = torch.FloatTensor(ecg_test).view(-1)"
      ],
      "metadata": {
        "id": "uxWbnmCgUjM_"
      },
      "execution_count": 8,
      "outputs": []
    },
    {
      "cell_type": "code",
      "source": [
        "def create_inout_sequences(input_data, tw):\n",
        "    inout_seq = []\n",
        "    L = len(input_data)\n",
        "    for i in range(L-tw):\n",
        "        train_seq = input_data[i:i+tw]\n",
        "        train_label = input_data[i+tw:i+tw+1]\n",
        "        inout_seq.append((train_seq ,train_label))\n",
        "    return inout_seq   "
      ],
      "metadata": {
        "id": "6KzGyiWqVC8i"
      },
      "execution_count": 9,
      "outputs": []
    },
    {
      "cell_type": "code",
      "source": [
        "\n",
        "\n",
        "def create_dataloader(data_entered, train_window, batch_size):\n",
        "  data = create_inout_sequences(data_entered, train_window)\n",
        "  data_loader = torch.utils.data.DataLoader(data,\n",
        "                                          batch_size=batch_size,\n",
        "                                          shuffle=True, drop_last= True)\n",
        "  return data_loader\n",
        "\n"
      ],
      "metadata": {
        "id": "6nM6vBg_Zi8O"
      },
      "execution_count": 10,
      "outputs": []
    },
    {
      "cell_type": "code",
      "source": [
        "\n",
        "\n",
        "train_window = 850  # 3 cardiac cycles in each sequence\n",
        "# train_data = create_inout_sequences(ecg_train, train_window)\n",
        "batch_size = 64\n",
        "\n"
      ],
      "metadata": {
        "id": "wYc8vHAyZlBG"
      },
      "execution_count": 11,
      "outputs": []
    },
    {
      "cell_type": "code",
      "source": [
        "class LSTM(nn.Module):\n",
        "    def __init__(self, input_size=1, hidden_dim=100, n_layers=5, output_size=1, drop_prob=0.5, lr=0.001):\n",
        "        super().__init__()\n",
        "        self.hidden_dim = hidden_dim\n",
        "        self.n_layers = n_layers\n",
        "        self.drop_prob = drop_prob\n",
        "        self.lr = lr\n",
        "\n",
        "        ## define the LSTM\n",
        "        self.lstm = nn.LSTM(input_size, hidden_dim, num_layers= n_layers, dropout=drop_prob, batch_first=True)\n",
        "        \n",
        "        ## define a dropout layer\n",
        "        self.dropout = nn.Dropout(drop_prob)\n",
        "\n",
        "        ## define the final, fully-connected output layer\n",
        "        self.linear = nn.Linear(hidden_dim, output_size)\n",
        "\n",
        "\n",
        "    def forward(self, input_seq, hidden):\n",
        "        lstm_out, hidden = self.lstm(input_seq, hidden)\n",
        "        out = self.dropout(lstm_out)\n",
        "        out = out.contiguous().view(-1, self.hidden_dim)\n",
        "\n",
        "        #fully-connected layer\n",
        "        out = self.linear(out)\n",
        "\n",
        "        batch_size = input_seq.size(0)\n",
        "        \n",
        "        # return the final output and the hidden state\n",
        "        return out, hidden\n",
        "\n",
        "    def init_hidden(self, batch_size):\n",
        "        ''' Initializes hidden state '''\n",
        "        # Create two new tensors with sizes n_layers x batch_size x n_hidden,\n",
        "        # initialized to zero, for hidden state and cell state of LSTM\n",
        "        weight = next(self.parameters()).data\n",
        "        \n",
        "        if (train_on_gpu):\n",
        "            hidden = (weight.new(self.n_layers, batch_size, self.hidden_dim).zero_().cuda(),\n",
        "                  weight.new(self.n_layers, batch_size, self.hidden_dim).zero_().cuda())\n",
        "        else:\n",
        "            hidden = (weight.new(self.n_layers, batch_size, self.hidden_dim).zero_(),\n",
        "                      weight.new(self.n_layers, batch_size, self.hidden_dim).zero_())\n",
        "        \n",
        "        return hidden"
      ],
      "metadata": {
        "id": "JUPBoD_3ZmmC"
      },
      "execution_count": 12,
      "outputs": []
    },
    {
      "cell_type": "code",
      "source": [
        "ecg_val = wfdb.rdrecord('14046', sampfrom= 108300, sampto= 129900, channels= [0])\n",
        "ecg_val = ecg_val.p_signal[:,0]\n",
        "\n",
        "wfdb.plot_items(ecg_val)\n",
        "ecg_val = torch.FloatTensor(ecg_val).view(-1)\n",
        "\n",
        "seq_length = train_window\n",
        "train_data_loader = create_dataloader(ecg_train, seq_length, batch_size)\n",
        "val_data_loader = create_dataloader(ecg_val, seq_length, batch_size)"
      ],
      "metadata": {
        "colab": {
          "base_uri": "https://localhost:8080/",
          "height": 279
        },
        "id": "xJx7B99iZpcg",
        "outputId": "c8f21232-9f82-4bff-a256-adbc32a71f7b"
      },
      "execution_count": 13,
      "outputs": [
        {
          "output_type": "display_data",
          "data": {
            "text/plain": [
              "<Figure size 432x288 with 1 Axes>"
            ],
            "image/png": "[encoded data removed]"
          },
          "metadata": {
            "needs_background": "light"
          }
        }
      ]
    },
    {
      "cell_type": "code",
      "source": [
        "def train(net, train_data_loader, val_data_loader, epochs=20, batch_size=batch_size, lr=0.1, clip=5, print_every=10):\n",
        "    ''' Training a network \n",
        "    \n",
        "        Arguments\n",
        "        ---------\n",
        "        \n",
        "        net: LSTM network\n",
        "        data: ecg data to train the network\n",
        "        epochs: Number of epochs to train\n",
        "        batch_size: Number of mini-sequences per mini-batch, aka batch size\n",
        "        seq_length: Number of character steps per mini-batch\n",
        "        lr: learning rate\n",
        "        clip: gradient clipping\n",
        "        val_frac: Fraction of data to hold out for validation\n",
        "        print_every: Number of steps for printing training and validation loss\n",
        "    \n",
        "    '''\n",
        "    net.train()\n",
        "    \n",
        "    opt = torch.optim.Adam(net.parameters(), lr=lr)\n",
        "    criterion = nn.L1Loss()\n",
        "    \n",
        "    if(train_on_gpu):\n",
        "        net.cuda()\n",
        "    \n",
        "    counter = 0\n",
        "    for e in range(epochs):\n",
        "        # initialize hidden state\n",
        "        h = net.init_hidden(batch_size)\n",
        "        \n",
        "        for x, y in train_data_loader:\n",
        "            counter += 1\n",
        "            x = torch.unsqueeze(x, 2)\n",
        "\n",
        "            inputs, targets = x, y\n",
        "            \n",
        "            if(train_on_gpu):\n",
        "                inputs, targets = inputs.cuda(), targets.cuda()\n",
        "\n",
        "            # Creating new variables for the hidden state, otherwise\n",
        "            # we'd backprop through the entire training history\n",
        "            h = tuple([each.data for each in h])\n",
        "\n",
        "            # zero accumulated gradients\n",
        "            net.zero_grad()\n",
        "            \n",
        "            # get the output from the model\n",
        "            output, h = net(inputs, h)\n",
        "            \n",
        "            # calculate the loss and perform backprop\n",
        "            loss = criterion(output, targets.view(batch_size).long())\n",
        "            loss.backward()\n",
        "            # `clip_grad_norm` helps prevent the exploding gradient problem in RNNs / LSTMs.\n",
        "            nn.utils.clip_grad_norm_(net.parameters(), clip)\n",
        "            opt.step()\n",
        "            \n",
        "            # loss stats\n",
        "            if counter % print_every == 0:\n",
        "                # Get validation loss\n",
        "                val_h = net.init_hidden(batch_size)\n",
        "                val_losses = []\n",
        "                net.eval()\n",
        "                for x, y in val_data_loader:\n",
        "                    # Creating new variables for the hidden state, otherwise\n",
        "                    # we'd backprop through the entire training history\n",
        "                    val_h = tuple([each.data for each in val_h])\n",
        "\n",
        "                    x = torch.unsqueeze(x, 2)\n",
        "\n",
        "                    inputs, targets = x, y\n",
        "                    if(train_on_gpu):\n",
        "                        inputs, targets = inputs.cuda(), targets.cuda()\n",
        "\n",
        "                    output, val_h = net(inputs, val_h)\n",
        "                    val_loss = criterion(output, targets.view(batch_size).long())\n",
        "                \n",
        "                    val_losses.append(val_loss.item())\n",
        "                \n",
        "                net.train() # reset to train mode\n",
        "                \n",
        "                print(\"Epoch: {}/{}...\".format(e+1, epochs),\n",
        "                      \"Step: {}...\".format(counter),\n",
        "                      \"Loss: {:.4f}...\".format(loss.item()),\n",
        "                      \"Val Loss: {:.4f}\".format(np.mean(val_losses)))"
      ],
      "metadata": {
        "id": "JiOnKvAwZrXh"
      },
      "execution_count": 14,
      "outputs": []
    },
    {
      "cell_type": "code",
      "source": [
        "hidden_dim=32\n",
        "n_layers=3\n",
        "\n",
        "net = LSTM(hidden_dim= hidden_dim, n_layers= n_layers)\n",
        "print(net)"
      ],
      "metadata": {
        "colab": {
          "base_uri": "https://localhost:8080/"
        },
        "id": "gVCdJjJSZ01Q",
        "outputId": "661b0025-5d10-4e36-85f8-d93b66faebd0"
      },
      "execution_count": 15,
      "outputs": [
        {
          "output_type": "stream",
          "name": "stdout",
          "text": [
            "LSTM(\n",
            "  (lstm): LSTM(1, 32, num_layers=3, batch_first=True, dropout=0.5)\n",
            "  (dropout): Dropout(p=0.5, inplace=False)\n",
            "  (linear): Linear(in_features=32, out_features=1, bias=True)\n",
            ")\n"
          ]
        }
      ]
    },
    {
      "cell_type": "code",
      "source": [
        "train_on_gpu = torch.cuda.is_available()"
      ],
      "metadata": {
        "id": "FrIdVzbCZ2PR"
      },
      "execution_count": 16,
      "outputs": []
    },
    {
      "cell_type": "code",
      "source": [
        "batch_size = 64\n",
        "seq_length = train_window\n",
        "n_epochs = 1\n",
        "\n",
        "# model training\n",
        "# train(net, ecg_train, epochs=n_epochs, batch_size=batch_size, seq_length=seq_length, lr=0.001, print_every=10)\n",
        "\n",
        "train(net, train_data_loader, val_data_loader, epochs=n_epochs, batch_size=batch_size, lr=0.25, print_every=10)"
      ],
      "metadata": {
        "colab": {
          "base_uri": "https://localhost:8080/"
        },
        "id": "Xm9mH8lvZ4ny",
        "outputId": "bf0cc356-8f35-414a-da8c-868e4d7e38b7"
      },
      "execution_count": null,
      "outputs": [
        {
          "output_type": "stream",
          "name": "stdout",
          "text": [
            "Epoch: 1/1... Step: 10... Loss: 1.6030... Val Loss: 0.5116\n",
            "Epoch: 1/1... Step: 20... Loss: 0.7654... Val Loss: 0.3311\n",
            "Epoch: 1/1... Step: 30... Loss: 0.4135... Val Loss: 0.4355\n",
            "Epoch: 1/1... Step: 40... Loss: 0.2582... Val Loss: 0.2965\n",
            "Epoch: 1/1... Step: 50... Loss: 0.5618... Val Loss: 0.2502\n",
            "Epoch: 1/1... Step: 60... Loss: 0.5954... Val Loss: 0.2096\n",
            "Epoch: 1/1... Step: 70... Loss: 0.4923... Val Loss: 0.3055\n",
            "Epoch: 1/1... Step: 80... Loss: 0.7286... Val Loss: 0.4846\n",
            "Epoch: 1/1... Step: 90... Loss: 0.3181... Val Loss: 0.3205\n",
            "Epoch: 1/1... Step: 100... Loss: 0.4385... Val Loss: 0.1352\n",
            "Epoch: 1/1... Step: 110... Loss: 0.9196... Val Loss: 0.4907\n",
            "Epoch: 1/1... Step: 120... Loss: 0.3138... Val Loss: 0.4095\n",
            "Epoch: 1/1... Step: 130... Loss: 0.4547... Val Loss: 0.5106\n",
            "Epoch: 1/1... Step: 140... Loss: 1.2186... Val Loss: 0.8091\n",
            "Epoch: 1/1... Step: 150... Loss: 0.4787... Val Loss: 0.5484\n",
            "Epoch: 1/1... Step: 160... Loss: 0.2673... Val Loss: 0.1728\n",
            "Epoch: 1/1... Step: 170... Loss: 0.3021... Val Loss: 0.2758\n",
            "Epoch: 1/1... Step: 180... Loss: 0.2024... Val Loss: 0.2950\n",
            "Epoch: 1/1... Step: 190... Loss: 0.5677... Val Loss: 0.5619\n",
            "Epoch: 1/1... Step: 200... Loss: 0.2722... Val Loss: 0.3651\n",
            "Epoch: 1/1... Step: 210... Loss: 0.4100... Val Loss: 0.1251\n",
            "Epoch: 1/1... Step: 220... Loss: 0.5987... Val Loss: 0.7761\n",
            "Epoch: 1/1... Step: 230... Loss: 0.6568... Val Loss: 0.3237\n",
            "Epoch: 1/1... Step: 240... Loss: 0.3997... Val Loss: 0.3715\n",
            "Epoch: 1/1... Step: 250... Loss: 0.2774... Val Loss: 0.1430\n",
            "Epoch: 1/1... Step: 260... Loss: 0.6205... Val Loss: 0.7322\n",
            "Epoch: 1/1... Step: 270... Loss: 1.3086... Val Loss: 0.9566\n",
            "Epoch: 1/1... Step: 280... Loss: 0.5116... Val Loss: 0.4604\n",
            "Epoch: 1/1... Step: 290... Loss: 0.6775... Val Loss: 0.8935\n",
            "Epoch: 1/1... Step: 300... Loss: 1.1264... Val Loss: 0.7685\n",
            "Epoch: 1/1... Step: 310... Loss: 1.3934... Val Loss: 1.1676\n",
            "Epoch: 1/1... Step: 320... Loss: 0.2226... Val Loss: 0.6373\n",
            "Epoch: 1/1... Step: 330... Loss: 0.8867... Val Loss: 0.8612\n",
            "Epoch: 1/1... Step: 340... Loss: 0.9072... Val Loss: 0.7074\n",
            "Epoch: 1/1... Step: 350... Loss: 0.3598... Val Loss: 0.4027\n",
            "Epoch: 1/1... Step: 360... Loss: 0.7284... Val Loss: 0.9514\n",
            "Epoch: 1/1... Step: 370... Loss: 0.3450... Val Loss: 0.4346\n",
            "Epoch: 1/1... Step: 380... Loss: 0.3650... Val Loss: 0.1585\n",
            "Epoch: 1/1... Step: 390... Loss: 0.4611... Val Loss: 0.0859\n",
            "Epoch: 1/1... Step: 400... Loss: 0.3088... Val Loss: 0.2857\n",
            "Epoch: 1/1... Step: 410... Loss: 0.5813... Val Loss: 0.2547\n",
            "Epoch: 1/1... Step: 420... Loss: 0.8326... Val Loss: 0.6187\n",
            "Epoch: 1/1... Step: 430... Loss: 1.0482... Val Loss: 0.5397\n",
            "Epoch: 1/1... Step: 440... Loss: 0.6579... Val Loss: 0.4171\n",
            "Epoch: 1/1... Step: 450... Loss: 0.1920... Val Loss: 0.3526\n",
            "Epoch: 1/1... Step: 460... Loss: 0.2523... Val Loss: 0.3200\n",
            "Epoch: 1/1... Step: 470... Loss: 0.4664... Val Loss: 0.0903\n",
            "Epoch: 1/1... Step: 480... Loss: 0.3585... Val Loss: 0.2967\n",
            "Epoch: 1/1... Step: 490... Loss: 0.2265... Val Loss: 0.1463\n",
            "Epoch: 1/1... Step: 500... Loss: 0.2594... Val Loss: 0.4042\n",
            "Epoch: 1/1... Step: 510... Loss: 0.2425... Val Loss: 0.1490\n",
            "Epoch: 1/1... Step: 520... Loss: 0.1047... Val Loss: 0.3203\n",
            "Epoch: 1/1... Step: 530... Loss: 0.4857... Val Loss: 0.1329\n",
            "Epoch: 1/1... Step: 540... Loss: 0.3516... Val Loss: 0.2308\n",
            "Epoch: 1/1... Step: 550... Loss: 0.2610... Val Loss: 0.3069\n",
            "Epoch: 1/1... Step: 560... Loss: 0.3738... Val Loss: 0.1953\n",
            "Epoch: 1/1... Step: 570... Loss: 0.7350... Val Loss: 0.2421\n",
            "Epoch: 1/1... Step: 580... Loss: 0.7183... Val Loss: 0.4655\n",
            "Epoch: 1/1... Step: 590... Loss: 0.5647... Val Loss: 0.4292\n",
            "Epoch: 1/1... Step: 600... Loss: 0.2181... Val Loss: 0.2903\n",
            "Epoch: 1/1... Step: 610... Loss: 0.5005... Val Loss: 0.2983\n",
            "Epoch: 1/1... Step: 620... Loss: 0.7844... Val Loss: 1.1242\n",
            "Epoch: 1/1... Step: 630... Loss: 0.7321... Val Loss: 1.1972\n",
            "Epoch: 1/1... Step: 640... Loss: 0.8268... Val Loss: 0.7333\n",
            "Epoch: 1/1... Step: 650... Loss: 0.8179... Val Loss: 0.2011\n",
            "Epoch: 1/1... Step: 660... Loss: 1.5094... Val Loss: 0.9250\n",
            "Epoch: 1/1... Step: 670... Loss: 1.7135... Val Loss: 2.0072\n",
            "Epoch: 1/1... Step: 680... Loss: 0.6745... Val Loss: 1.1588\n",
            "Epoch: 1/1... Step: 690... Loss: 0.8756... Val Loss: 1.2888\n",
            "Epoch: 1/1... Step: 700... Loss: 0.3261... Val Loss: 0.2438\n",
            "Epoch: 1/1... Step: 710... Loss: 0.5247... Val Loss: 0.0940\n",
            "Epoch: 1/1... Step: 720... Loss: 0.7713... Val Loss: 0.4198\n",
            "Epoch: 1/1... Step: 730... Loss: 0.6343... Val Loss: 0.2604\n",
            "Epoch: 1/1... Step: 740... Loss: 0.7517... Val Loss: 0.7943\n",
            "Epoch: 1/1... Step: 750... Loss: 1.1336... Val Loss: 0.9079\n",
            "Epoch: 1/1... Step: 760... Loss: 0.4361... Val Loss: 0.7669\n",
            "Epoch: 1/1... Step: 770... Loss: 0.3288... Val Loss: 0.4031\n",
            "Epoch: 1/1... Step: 780... Loss: 0.4117... Val Loss: 0.0873\n",
            "Epoch: 1/1... Step: 790... Loss: 0.3241... Val Loss: 0.1654\n",
            "Epoch: 1/1... Step: 800... Loss: 0.4833... Val Loss: 0.5843\n",
            "Epoch: 1/1... Step: 810... Loss: 0.4262... Val Loss: 0.2490\n",
            "Epoch: 1/1... Step: 820... Loss: 0.2935... Val Loss: 0.2752\n",
            "Epoch: 1/1... Step: 830... Loss: 0.3948... Val Loss: 0.1284\n",
            "Epoch: 1/1... Step: 840... Loss: 0.1855... Val Loss: 0.4038\n",
            "Epoch: 1/1... Step: 850... Loss: 0.2263... Val Loss: 0.7183\n",
            "Epoch: 1/1... Step: 860... Loss: 0.4202... Val Loss: 0.2063\n",
            "Epoch: 1/1... Step: 870... Loss: 0.4752... Val Loss: 0.2774\n",
            "Epoch: 1/1... Step: 880... Loss: 0.5105... Val Loss: 0.3677\n",
            "Epoch: 1/1... Step: 890... Loss: 0.3090... Val Loss: 0.1601\n",
            "Epoch: 1/1... Step: 900... Loss: 0.2990... Val Loss: 0.2794\n",
            "Epoch: 1/1... Step: 910... Loss: 0.5813... Val Loss: 0.5755\n",
            "Epoch: 1/1... Step: 920... Loss: 0.9793... Val Loss: 0.6699\n",
            "Epoch: 1/1... Step: 930... Loss: 0.9211... Val Loss: 0.2467\n",
            "Epoch: 1/1... Step: 940... Loss: 0.1937... Val Loss: 0.6783\n",
            "Epoch: 1/1... Step: 950... Loss: 0.6910... Val Loss: 0.2774\n",
            "Epoch: 1/1... Step: 960... Loss: 0.3926... Val Loss: 0.3760\n",
            "Epoch: 1/1... Step: 970... Loss: 0.1711... Val Loss: 0.3476\n",
            "Epoch: 1/1... Step: 980... Loss: 0.5669... Val Loss: 0.1080\n",
            "Epoch: 1/1... Step: 990... Loss: 0.3346... Val Loss: 0.1977\n",
            "Epoch: 1/1... Step: 1000... Loss: 0.4743... Val Loss: 0.3934\n",
            "Epoch: 1/1... Step: 1010... Loss: 0.4498... Val Loss: 0.5106\n",
            "Epoch: 1/1... Step: 1020... Loss: 0.2472... Val Loss: 0.1469\n",
            "Epoch: 1/1... Step: 1030... Loss: 0.3852... Val Loss: 0.2320\n",
            "Epoch: 1/1... Step: 1040... Loss: 0.2903... Val Loss: 0.4457\n",
            "Epoch: 1/1... Step: 1050... Loss: 0.5394... Val Loss: 0.1554\n",
            "Epoch: 1/1... Step: 1060... Loss: 0.4481... Val Loss: 0.2079\n",
            "Epoch: 1/1... Step: 1070... Loss: 0.6049... Val Loss: 0.6582\n",
            "Epoch: 1/1... Step: 1080... Loss: 0.8633... Val Loss: 0.6926\n",
            "Epoch: 1/1... Step: 1090... Loss: 0.9239... Val Loss: 0.3039\n",
            "Epoch: 1/1... Step: 1100... Loss: 1.4798... Val Loss: 0.9983\n",
            "Epoch: 1/1... Step: 1110... Loss: 1.0081... Val Loss: 0.7262\n",
            "Epoch: 1/1... Step: 1120... Loss: 0.0900... Val Loss: 0.4467\n",
            "Epoch: 1/1... Step: 1130... Loss: 0.7441... Val Loss: 0.0972\n",
            "Epoch: 1/1... Step: 1140... Loss: 0.5167... Val Loss: 0.0931\n",
            "Epoch: 1/1... Step: 1150... Loss: 0.6436... Val Loss: 0.2857\n",
            "Epoch: 1/1... Step: 1160... Loss: 0.3365... Val Loss: 0.0903\n",
            "Epoch: 1/1... Step: 1170... Loss: 0.4050... Val Loss: 0.4703\n",
            "Epoch: 1/1... Step: 1180... Loss: 0.5761... Val Loss: 0.2603\n",
            "Epoch: 1/1... Step: 1190... Loss: 0.7821... Val Loss: 0.2941\n",
            "Epoch: 1/1... Step: 1200... Loss: 0.4238... Val Loss: 0.3099\n",
            "Epoch: 1/1... Step: 1210... Loss: 0.3886... Val Loss: 0.2738\n",
            "Epoch: 1/1... Step: 1220... Loss: 0.3910... Val Loss: 0.2373\n",
            "Epoch: 1/1... Step: 1230... Loss: 0.6999... Val Loss: 0.2911\n",
            "Epoch: 1/1... Step: 1240... Loss: 0.5283... Val Loss: 0.1926\n"
          ]
        }
      ]
    },
    {
      "cell_type": "code",
      "source": [
        "model_name = 'rnn_10_epoch.net'\n",
        "\n",
        "checkpoint_20E = {'n_hidden': net.hidden_dim,\n",
        "              'n_layers': net.n_layers,\n",
        "              'state_dict': net.state_dict()}\n",
        "\n",
        "with open(model_name, 'wb') as f:\n",
        "    torch.save(checkpoint_20E, f)"
      ],
      "metadata": {
        "id": "h3d7jYP2Z6k1"
      },
      "execution_count": null,
      "outputs": []
    },
    {
      "cell_type": "code",
      "source": [],
      "metadata": {
        "id": "n7lZzcsIg1Xs"
      },
      "execution_count": null,
      "outputs": []
    }
  ]
}